{
 "cells": [
  {
   "cell_type": "code",
   "execution_count": 7,
   "metadata": {},
   "outputs": [],
   "source": [
    "import pandas as pd\n",
    "import numpy as np\n",
    "import matplotlib.pyplot as plt\n",
    "import sklearn\n",
    "import glob \n",
    "import os\n",
    "from sklearn import svm"
   ]
  },
  {
   "cell_type": "code",
   "execution_count": 8,
   "metadata": {},
   "outputs": [],
   "source": [
    "# We'll start by doing some exploratory analysis on just one year of stats to get a feel for the data.\n",
    "stats00 = pd.read_csv(\"data/2000.csv\")"
   ]
  },
  {
   "cell_type": "code",
   "execution_count": 9,
   "metadata": {},
   "outputs": [
    {
     "data": {
      "text/html": [
       "<div>\n",
       "<style scoped>\n",
       "    .dataframe tbody tr th:only-of-type {\n",
       "        vertical-align: middle;\n",
       "    }\n",
       "\n",
       "    .dataframe tbody tr th {\n",
       "        vertical-align: top;\n",
       "    }\n",
       "\n",
       "    .dataframe thead th {\n",
       "        text-align: right;\n",
       "    }\n",
       "</style>\n",
       "<table border=\"1\" class=\"dataframe\">\n",
       "  <thead>\n",
       "    <tr style=\"text-align: right;\">\n",
       "      <th></th>\n",
       "      <th>Rk</th>\n",
       "      <th>Player</th>\n",
       "      <th>Pos</th>\n",
       "      <th>Age</th>\n",
       "      <th>Tm</th>\n",
       "      <th>G</th>\n",
       "      <th>GS</th>\n",
       "      <th>MP</th>\n",
       "      <th>FG</th>\n",
       "      <th>FGA</th>\n",
       "      <th>...</th>\n",
       "      <th>TRB</th>\n",
       "      <th>AST</th>\n",
       "      <th>STL</th>\n",
       "      <th>BLK</th>\n",
       "      <th>TOV</th>\n",
       "      <th>PF</th>\n",
       "      <th>PTS</th>\n",
       "      <th>Unnamed: 29</th>\n",
       "      <th>ORtg</th>\n",
       "      <th>DRtg</th>\n",
       "    </tr>\n",
       "  </thead>\n",
       "  <tbody>\n",
       "    <tr>\n",
       "      <th>0</th>\n",
       "      <td>1</td>\n",
       "      <td>Tariq Abdul-Wahad\\abdulta01</td>\n",
       "      <td>SG</td>\n",
       "      <td>25</td>\n",
       "      <td>TOT</td>\n",
       "      <td>61</td>\n",
       "      <td>56</td>\n",
       "      <td>1578</td>\n",
       "      <td>8.6</td>\n",
       "      <td>20.3</td>\n",
       "      <td>...</td>\n",
       "      <td>9.2</td>\n",
       "      <td>3.1</td>\n",
       "      <td>1.9</td>\n",
       "      <td>0.9</td>\n",
       "      <td>3.3</td>\n",
       "      <td>4.6</td>\n",
       "      <td>21.9</td>\n",
       "      <td>NaN</td>\n",
       "      <td>98.0</td>\n",
       "      <td>103</td>\n",
       "    </tr>\n",
       "    <tr>\n",
       "      <th>1</th>\n",
       "      <td>1</td>\n",
       "      <td>Tariq Abdul-Wahad\\abdulta01</td>\n",
       "      <td>SG</td>\n",
       "      <td>25</td>\n",
       "      <td>ORL</td>\n",
       "      <td>46</td>\n",
       "      <td>46</td>\n",
       "      <td>1205</td>\n",
       "      <td>9.1</td>\n",
       "      <td>21.1</td>\n",
       "      <td>...</td>\n",
       "      <td>9.8</td>\n",
       "      <td>2.9</td>\n",
       "      <td>2.2</td>\n",
       "      <td>0.7</td>\n",
       "      <td>3.6</td>\n",
       "      <td>4.7</td>\n",
       "      <td>23.0</td>\n",
       "      <td>NaN</td>\n",
       "      <td>98.0</td>\n",
       "      <td>101</td>\n",
       "    </tr>\n",
       "    <tr>\n",
       "      <th>2</th>\n",
       "      <td>1</td>\n",
       "      <td>Tariq Abdul-Wahad\\abdulta01</td>\n",
       "      <td>SG</td>\n",
       "      <td>25</td>\n",
       "      <td>DEN</td>\n",
       "      <td>15</td>\n",
       "      <td>10</td>\n",
       "      <td>373</td>\n",
       "      <td>6.9</td>\n",
       "      <td>17.8</td>\n",
       "      <td>...</td>\n",
       "      <td>7.1</td>\n",
       "      <td>3.5</td>\n",
       "      <td>0.8</td>\n",
       "      <td>1.6</td>\n",
       "      <td>2.6</td>\n",
       "      <td>4.2</td>\n",
       "      <td>18.2</td>\n",
       "      <td>NaN</td>\n",
       "      <td>96.0</td>\n",
       "      <td>109</td>\n",
       "    </tr>\n",
       "    <tr>\n",
       "      <th>3</th>\n",
       "      <td>2</td>\n",
       "      <td>Shareef Abdur-Rahim\\abdursh01</td>\n",
       "      <td>SF</td>\n",
       "      <td>23</td>\n",
       "      <td>VAN</td>\n",
       "      <td>82</td>\n",
       "      <td>82</td>\n",
       "      <td>3223</td>\n",
       "      <td>9.7</td>\n",
       "      <td>20.9</td>\n",
       "      <td>...</td>\n",
       "      <td>13.5</td>\n",
       "      <td>4.4</td>\n",
       "      <td>1.5</td>\n",
       "      <td>1.4</td>\n",
       "      <td>4.1</td>\n",
       "      <td>4.0</td>\n",
       "      <td>27.2</td>\n",
       "      <td>NaN</td>\n",
       "      <td>108.0</td>\n",
       "      <td>106</td>\n",
       "    </tr>\n",
       "    <tr>\n",
       "      <th>4</th>\n",
       "      <td>3</td>\n",
       "      <td>Cory Alexander\\alexaco01</td>\n",
       "      <td>PG</td>\n",
       "      <td>26</td>\n",
       "      <td>DEN</td>\n",
       "      <td>29</td>\n",
       "      <td>2</td>\n",
       "      <td>329</td>\n",
       "      <td>4.3</td>\n",
       "      <td>15.1</td>\n",
       "      <td>...</td>\n",
       "      <td>6.5</td>\n",
       "      <td>8.9</td>\n",
       "      <td>3.7</td>\n",
       "      <td>0.3</td>\n",
       "      <td>4.3</td>\n",
       "      <td>6.0</td>\n",
       "      <td>12.6</td>\n",
       "      <td>NaN</td>\n",
       "      <td>84.0</td>\n",
       "      <td>103</td>\n",
       "    </tr>\n",
       "  </tbody>\n",
       "</table>\n",
       "<p>5 rows × 32 columns</p>\n",
       "</div>"
      ],
      "text/plain": [
       "   Rk                         Player Pos  Age   Tm   G  GS    MP   FG   FGA  \\\n",
       "0   1    Tariq Abdul-Wahad\\abdulta01  SG   25  TOT  61  56  1578  8.6  20.3   \n",
       "1   1    Tariq Abdul-Wahad\\abdulta01  SG   25  ORL  46  46  1205  9.1  21.1   \n",
       "2   1    Tariq Abdul-Wahad\\abdulta01  SG   25  DEN  15  10   373  6.9  17.8   \n",
       "3   2  Shareef Abdur-Rahim\\abdursh01  SF   23  VAN  82  82  3223  9.7  20.9   \n",
       "4   3       Cory Alexander\\alexaco01  PG   26  DEN  29   2   329  4.3  15.1   \n",
       "\n",
       "   ...    TRB  AST  STL  BLK  TOV   PF   PTS  Unnamed: 29   ORtg  DRtg  \n",
       "0  ...    9.2  3.1  1.9  0.9  3.3  4.6  21.9          NaN   98.0   103  \n",
       "1  ...    9.8  2.9  2.2  0.7  3.6  4.7  23.0          NaN   98.0   101  \n",
       "2  ...    7.1  3.5  0.8  1.6  2.6  4.2  18.2          NaN   96.0   109  \n",
       "3  ...   13.5  4.4  1.5  1.4  4.1  4.0  27.2          NaN  108.0   106  \n",
       "4  ...    6.5  8.9  3.7  0.3  4.3  6.0  12.6          NaN   84.0   103  \n",
       "\n",
       "[5 rows x 32 columns]"
      ]
     },
     "execution_count": 9,
     "metadata": {},
     "output_type": "execute_result"
    }
   ],
   "source": [
    "stats00.head()"
   ]
  },
  {
   "cell_type": "code",
   "execution_count": 10,
   "metadata": {},
   "outputs": [
    {
     "data": {
      "text/html": [
       "<div>\n",
       "<style scoped>\n",
       "    .dataframe tbody tr th:only-of-type {\n",
       "        vertical-align: middle;\n",
       "    }\n",
       "\n",
       "    .dataframe tbody tr th {\n",
       "        vertical-align: top;\n",
       "    }\n",
       "\n",
       "    .dataframe thead th {\n",
       "        text-align: right;\n",
       "    }\n",
       "</style>\n",
       "<table border=\"1\" class=\"dataframe\">\n",
       "  <thead>\n",
       "    <tr style=\"text-align: right;\">\n",
       "      <th></th>\n",
       "      <th>Rk</th>\n",
       "      <th>Age</th>\n",
       "      <th>G</th>\n",
       "      <th>GS</th>\n",
       "      <th>MP</th>\n",
       "      <th>FG</th>\n",
       "      <th>FGA</th>\n",
       "      <th>FG%</th>\n",
       "      <th>3P</th>\n",
       "      <th>3PA</th>\n",
       "      <th>...</th>\n",
       "      <th>TRB</th>\n",
       "      <th>AST</th>\n",
       "      <th>STL</th>\n",
       "      <th>BLK</th>\n",
       "      <th>TOV</th>\n",
       "      <th>PF</th>\n",
       "      <th>PTS</th>\n",
       "      <th>Unnamed: 29</th>\n",
       "      <th>ORtg</th>\n",
       "      <th>DRtg</th>\n",
       "    </tr>\n",
       "  </thead>\n",
       "  <tbody>\n",
       "    <tr>\n",
       "      <th>count</th>\n",
       "      <td>496.000000</td>\n",
       "      <td>496.000000</td>\n",
       "      <td>496.000000</td>\n",
       "      <td>496.000000</td>\n",
       "      <td>496.000000</td>\n",
       "      <td>496.000000</td>\n",
       "      <td>496.000000</td>\n",
       "      <td>494.000000</td>\n",
       "      <td>496.000000</td>\n",
       "      <td>496.000000</td>\n",
       "      <td>...</td>\n",
       "      <td>496.000000</td>\n",
       "      <td>496.000000</td>\n",
       "      <td>496.000000</td>\n",
       "      <td>496.000000</td>\n",
       "      <td>496.000000</td>\n",
       "      <td>496.000000</td>\n",
       "      <td>496.000000</td>\n",
       "      <td>0.0</td>\n",
       "      <td>495.000000</td>\n",
       "      <td>496.000000</td>\n",
       "    </tr>\n",
       "    <tr>\n",
       "      <th>mean</th>\n",
       "      <td>216.266129</td>\n",
       "      <td>27.620968</td>\n",
       "      <td>51.340726</td>\n",
       "      <td>24.566532</td>\n",
       "      <td>1200.512097</td>\n",
       "      <td>6.947379</td>\n",
       "      <td>16.410081</td>\n",
       "      <td>0.427391</td>\n",
       "      <td>0.845968</td>\n",
       "      <td>2.628427</td>\n",
       "      <td>...</td>\n",
       "      <td>9.182863</td>\n",
       "      <td>4.246774</td>\n",
       "      <td>1.671573</td>\n",
       "      <td>1.060685</td>\n",
       "      <td>3.154637</td>\n",
       "      <td>5.850000</td>\n",
       "      <td>18.263105</td>\n",
       "      <td>NaN</td>\n",
       "      <td>99.854545</td>\n",
       "      <td>104.423387</td>\n",
       "    </tr>\n",
       "    <tr>\n",
       "      <th>std</th>\n",
       "      <td>127.421886</td>\n",
       "      <td>4.471400</td>\n",
       "      <td>27.146494</td>\n",
       "      <td>30.777068</td>\n",
       "      <td>957.736755</td>\n",
       "      <td>2.506427</td>\n",
       "      <td>5.262163</td>\n",
       "      <td>0.099196</td>\n",
       "      <td>1.062161</td>\n",
       "      <td>2.987938</td>\n",
       "      <td>...</td>\n",
       "      <td>4.335301</td>\n",
       "      <td>3.141754</td>\n",
       "      <td>0.990632</td>\n",
       "      <td>1.177554</td>\n",
       "      <td>1.593021</td>\n",
       "      <td>2.833216</td>\n",
       "      <td>6.393111</td>\n",
       "      <td>NaN</td>\n",
       "      <td>16.261871</td>\n",
       "      <td>4.328690</td>\n",
       "    </tr>\n",
       "    <tr>\n",
       "      <th>min</th>\n",
       "      <td>1.000000</td>\n",
       "      <td>19.000000</td>\n",
       "      <td>1.000000</td>\n",
       "      <td>0.000000</td>\n",
       "      <td>1.000000</td>\n",
       "      <td>0.000000</td>\n",
       "      <td>0.000000</td>\n",
       "      <td>0.000000</td>\n",
       "      <td>0.000000</td>\n",
       "      <td>0.000000</td>\n",
       "      <td>...</td>\n",
       "      <td>0.000000</td>\n",
       "      <td>0.000000</td>\n",
       "      <td>0.000000</td>\n",
       "      <td>0.000000</td>\n",
       "      <td>0.000000</td>\n",
       "      <td>0.000000</td>\n",
       "      <td>0.000000</td>\n",
       "      <td>NaN</td>\n",
       "      <td>0.000000</td>\n",
       "      <td>88.000000</td>\n",
       "    </tr>\n",
       "    <tr>\n",
       "      <th>25%</th>\n",
       "      <td>103.750000</td>\n",
       "      <td>24.000000</td>\n",
       "      <td>26.750000</td>\n",
       "      <td>0.000000</td>\n",
       "      <td>331.500000</td>\n",
       "      <td>5.300000</td>\n",
       "      <td>13.275000</td>\n",
       "      <td>0.394250</td>\n",
       "      <td>0.000000</td>\n",
       "      <td>0.100000</td>\n",
       "      <td>...</td>\n",
       "      <td>5.700000</td>\n",
       "      <td>2.100000</td>\n",
       "      <td>1.100000</td>\n",
       "      <td>0.300000</td>\n",
       "      <td>2.300000</td>\n",
       "      <td>4.100000</td>\n",
       "      <td>13.775000</td>\n",
       "      <td>NaN</td>\n",
       "      <td>94.500000</td>\n",
       "      <td>102.000000</td>\n",
       "    </tr>\n",
       "    <tr>\n",
       "      <th>50%</th>\n",
       "      <td>213.500000</td>\n",
       "      <td>27.000000</td>\n",
       "      <td>58.000000</td>\n",
       "      <td>7.000000</td>\n",
       "      <td>1021.000000</td>\n",
       "      <td>6.900000</td>\n",
       "      <td>16.000000</td>\n",
       "      <td>0.432500</td>\n",
       "      <td>0.300000</td>\n",
       "      <td>1.500000</td>\n",
       "      <td>...</td>\n",
       "      <td>8.400000</td>\n",
       "      <td>3.200000</td>\n",
       "      <td>1.600000</td>\n",
       "      <td>0.700000</td>\n",
       "      <td>3.100000</td>\n",
       "      <td>5.300000</td>\n",
       "      <td>18.200000</td>\n",
       "      <td>NaN</td>\n",
       "      <td>102.000000</td>\n",
       "      <td>104.500000</td>\n",
       "    </tr>\n",
       "    <tr>\n",
       "      <th>75%</th>\n",
       "      <td>327.250000</td>\n",
       "      <td>31.000000</td>\n",
       "      <td>77.000000</td>\n",
       "      <td>53.250000</td>\n",
       "      <td>1953.750000</td>\n",
       "      <td>8.600000</td>\n",
       "      <td>19.725000</td>\n",
       "      <td>0.471000</td>\n",
       "      <td>1.500000</td>\n",
       "      <td>4.625000</td>\n",
       "      <td>...</td>\n",
       "      <td>12.425000</td>\n",
       "      <td>5.725000</td>\n",
       "      <td>2.125000</td>\n",
       "      <td>1.400000</td>\n",
       "      <td>3.900000</td>\n",
       "      <td>7.100000</td>\n",
       "      <td>22.425000</td>\n",
       "      <td>NaN</td>\n",
       "      <td>108.000000</td>\n",
       "      <td>107.250000</td>\n",
       "    </tr>\n",
       "    <tr>\n",
       "      <th>max</th>\n",
       "      <td>439.000000</td>\n",
       "      <td>39.000000</td>\n",
       "      <td>85.000000</td>\n",
       "      <td>82.000000</td>\n",
       "      <td>3464.000000</td>\n",
       "      <td>18.500000</td>\n",
       "      <td>51.100000</td>\n",
       "      <td>1.000000</td>\n",
       "      <td>5.200000</td>\n",
       "      <td>17.000000</td>\n",
       "      <td>...</td>\n",
       "      <td>34.100000</td>\n",
       "      <td>18.500000</td>\n",
       "      <td>12.600000</td>\n",
       "      <td>7.000000</td>\n",
       "      <td>21.500000</td>\n",
       "      <td>34.100000</td>\n",
       "      <td>38.100000</td>\n",
       "      <td>NaN</td>\n",
       "      <td>216.000000</td>\n",
       "      <td>117.000000</td>\n",
       "    </tr>\n",
       "  </tbody>\n",
       "</table>\n",
       "<p>8 rows × 29 columns</p>\n",
       "</div>"
      ],
      "text/plain": [
       "               Rk         Age           G          GS           MP  \\\n",
       "count  496.000000  496.000000  496.000000  496.000000   496.000000   \n",
       "mean   216.266129   27.620968   51.340726   24.566532  1200.512097   \n",
       "std    127.421886    4.471400   27.146494   30.777068   957.736755   \n",
       "min      1.000000   19.000000    1.000000    0.000000     1.000000   \n",
       "25%    103.750000   24.000000   26.750000    0.000000   331.500000   \n",
       "50%    213.500000   27.000000   58.000000    7.000000  1021.000000   \n",
       "75%    327.250000   31.000000   77.000000   53.250000  1953.750000   \n",
       "max    439.000000   39.000000   85.000000   82.000000  3464.000000   \n",
       "\n",
       "               FG         FGA         FG%          3P         3PA     ...      \\\n",
       "count  496.000000  496.000000  494.000000  496.000000  496.000000     ...       \n",
       "mean     6.947379   16.410081    0.427391    0.845968    2.628427     ...       \n",
       "std      2.506427    5.262163    0.099196    1.062161    2.987938     ...       \n",
       "min      0.000000    0.000000    0.000000    0.000000    0.000000     ...       \n",
       "25%      5.300000   13.275000    0.394250    0.000000    0.100000     ...       \n",
       "50%      6.900000   16.000000    0.432500    0.300000    1.500000     ...       \n",
       "75%      8.600000   19.725000    0.471000    1.500000    4.625000     ...       \n",
       "max     18.500000   51.100000    1.000000    5.200000   17.000000     ...       \n",
       "\n",
       "              TRB         AST         STL         BLK         TOV          PF  \\\n",
       "count  496.000000  496.000000  496.000000  496.000000  496.000000  496.000000   \n",
       "mean     9.182863    4.246774    1.671573    1.060685    3.154637    5.850000   \n",
       "std      4.335301    3.141754    0.990632    1.177554    1.593021    2.833216   \n",
       "min      0.000000    0.000000    0.000000    0.000000    0.000000    0.000000   \n",
       "25%      5.700000    2.100000    1.100000    0.300000    2.300000    4.100000   \n",
       "50%      8.400000    3.200000    1.600000    0.700000    3.100000    5.300000   \n",
       "75%     12.425000    5.725000    2.125000    1.400000    3.900000    7.100000   \n",
       "max     34.100000   18.500000   12.600000    7.000000   21.500000   34.100000   \n",
       "\n",
       "              PTS  Unnamed: 29        ORtg        DRtg  \n",
       "count  496.000000          0.0  495.000000  496.000000  \n",
       "mean    18.263105          NaN   99.854545  104.423387  \n",
       "std      6.393111          NaN   16.261871    4.328690  \n",
       "min      0.000000          NaN    0.000000   88.000000  \n",
       "25%     13.775000          NaN   94.500000  102.000000  \n",
       "50%     18.200000          NaN  102.000000  104.500000  \n",
       "75%     22.425000          NaN  108.000000  107.250000  \n",
       "max     38.100000          NaN  216.000000  117.000000  \n",
       "\n",
       "[8 rows x 29 columns]"
      ]
     },
     "execution_count": 10,
     "metadata": {},
     "output_type": "execute_result"
    }
   ],
   "source": [
    "stats00.describe()"
   ]
  },
  {
   "cell_type": "code",
   "execution_count": 11,
   "metadata": {},
   "outputs": [
    {
     "data": {
      "text/plain": [
       "array(['Rk', 'Player', 'Pos', 'Age', 'Tm', 'G', 'GS', 'MP', 'FG', 'FGA',\n",
       "       'FG%', '3P', '3PA', '3P%', '2P', '2PA', '2P%', 'FT', 'FTA', 'FT%',\n",
       "       'ORB', 'DRB', 'TRB', 'AST', 'STL', 'BLK', 'TOV', 'PF', 'PTS',\n",
       "       'Unnamed: 29', 'ORtg', 'DRtg'], dtype=object)"
      ]
     },
     "execution_count": 11,
     "metadata": {},
     "output_type": "execute_result"
    }
   ],
   "source": [
    "stats00.columns.values"
   ]
  },
  {
   "cell_type": "code",
   "execution_count": 12,
   "metadata": {},
   "outputs": [],
   "source": [
    "# Let's get rid of that pesky 'NaN' column.\n",
    "stats00 = stats00.drop(columns=['Unnamed: 29'])"
   ]
  },
  {
   "cell_type": "code",
   "execution_count": 13,
   "metadata": {},
   "outputs": [
    {
     "data": {
      "text/plain": [
       "array(['Rk', 'Player', 'Pos', 'Age', 'Tm', 'G', 'GS', 'MP', 'FG', 'FGA',\n",
       "       'FG%', '3P', '3PA', '3P%', '2P', '2PA', '2P%', 'FT', 'FTA', 'FT%',\n",
       "       'ORB', 'DRB', 'TRB', 'AST', 'STL', 'BLK', 'TOV', 'PF', 'PTS',\n",
       "       'ORtg', 'DRtg'], dtype=object)"
      ]
     },
     "execution_count": 13,
     "metadata": {},
     "output_type": "execute_result"
    }
   ],
   "source": [
    "stats00.columns.values"
   ]
  },
  {
   "cell_type": "code",
   "execution_count": 14,
   "metadata": {},
   "outputs": [
    {
     "data": {
      "text/plain": [
       "(array([  9.,   9.,  43.,  97., 119., 104.,  69.,  33.,   6.,   7.]),\n",
       " array([ 0.  ,  3.81,  7.62, 11.43, 15.24, 19.05, 22.86, 26.67, 30.48,\n",
       "        34.29, 38.1 ]),\n",
       " <a list of 10 Patch objects>)"
      ]
     },
     "execution_count": 14,
     "metadata": {},
     "output_type": "execute_result"
    },
    {
     "data": {
      "image/png": "[encoded data removed]",
      "text/plain": [
       "<Figure size 432x288 with 1 Axes>"
      ]
     },
     "metadata": {},
     "output_type": "display_data"
    }
   ],
   "source": [
    "# Histogram of points per 100\n",
    "plt.hist(stats00['PTS'])"
   ]
  },
  {
   "cell_type": "code",
   "execution_count": 15,
   "metadata": {},
   "outputs": [
    {
     "data": {
      "text/plain": [
       "(array([130.,  74.,  47.,  46.,  46.,  41.,  40.,  32.,  29.,  11.]),\n",
       " array([1.0000e+00, 3.4730e+02, 6.9360e+02, 1.0399e+03, 1.3862e+03,\n",
       "        1.7325e+03, 2.0788e+03, 2.4251e+03, 2.7714e+03, 3.1177e+03,\n",
       "        3.4640e+03]),\n",
       " <a list of 10 Patch objects>)"
      ]
     },
     "execution_count": 15,
     "metadata": {},
     "output_type": "execute_result"
    },
    {
     "data": {
      "image/png": "[encoded data removed]",
      "text/plain": [
       "<Figure size 432x288 with 1 Axes>"
      ]
     },
     "metadata": {},
     "output_type": "display_data"
    }
   ],
   "source": [
    "# Histogram of minutes played. I want to get rid of players who didn't play a lot of minutes. Their stats will\n",
    "# be inflated/meaningless, and they're not going to be MVP...\n",
    "# 48 minutes per game X 82 games = 3936 total minutes in the season.\n",
    "plt.hist(stats00['MP'])"
   ]
  },
  {
   "cell_type": "code",
   "execution_count": 16,
   "metadata": {},
   "outputs": [
    {
     "data": {
      "text/plain": [
       "count     496.000000\n",
       "mean     1200.512097\n",
       "std       957.736755\n",
       "min         1.000000\n",
       "25%       331.500000\n",
       "50%      1021.000000\n",
       "75%      1953.750000\n",
       "max      3464.000000\n",
       "Name: MP, dtype: float64"
      ]
     },
     "execution_count": 16,
     "metadata": {},
     "output_type": "execute_result"
    }
   ],
   "source": [
    "stats00['MP'].describe()"
   ]
  },
  {
   "cell_type": "code",
   "execution_count": 17,
   "metadata": {},
   "outputs": [],
   "source": [
    "# I think it's reasonable to get rid of the bottom quartile. \n",
    "stats00.sort_values(by=['MP']).head()\n",
    "stats00 = stats00[stats00.MP > 331.5]"
   ]
  },
  {
   "cell_type": "code",
   "execution_count": 18,
   "metadata": {},
   "outputs": [
    {
     "data": {
      "text/plain": [
       "(array([67., 48., 42., 36., 50., 34., 34., 27., 26.,  8.]),\n",
       " array([ 332. ,  645.2,  958.4, 1271.6, 1584.8, 1898. , 2211.2, 2524.4,\n",
       "        2837.6, 3150.8, 3464. ]),\n",
       " <a list of 10 Patch objects>)"
      ]
     },
     "execution_count": 18,
     "metadata": {},
     "output_type": "execute_result"
    },
    {
     "data": {
      "image/png": "[encoded data removed]",
      "text/plain": [
       "<Figure size 432x288 with 1 Axes>"
      ]
     },
     "metadata": {},
     "output_type": "display_data"
    }
   ],
   "source": [
    "plt.hist(stats00.MP)"
   ]
  },
  {
   "cell_type": "code",
   "execution_count": 19,
   "metadata": {},
   "outputs": [
    {
     "data": {
      "text/plain": [
       "(array([ 4., 17., 50., 75., 91., 73., 36., 19.,  3.,  4.]),\n",
       " array([ 4.4 ,  7.77, 11.14, 14.51, 17.88, 21.25, 24.62, 27.99, 31.36,\n",
       "        34.73, 38.1 ]),\n",
       " <a list of 10 Patch objects>)"
      ]
     },
     "execution_count": 19,
     "metadata": {},
     "output_type": "execute_result"
    },
    {
     "data": {
      "image/png": "[encoded data removed]",
      "text/plain": [
       "<Figure size 432x288 with 1 Axes>"
      ]
     },
     "metadata": {},
     "output_type": "display_data"
    }
   ],
   "source": [
    "# Now what does the pts per 100 histogram look like?\n",
    "plt.hist(stats00['PTS'])"
   ]
  },
  {
   "cell_type": "code",
   "execution_count": 20,
   "metadata": {},
   "outputs": [
    {
     "data": {
      "text/html": [
       "<div>\n",
       "<style scoped>\n",
       "    .dataframe tbody tr th:only-of-type {\n",
       "        vertical-align: middle;\n",
       "    }\n",
       "\n",
       "    .dataframe tbody tr th {\n",
       "        vertical-align: top;\n",
       "    }\n",
       "\n",
       "    .dataframe thead th {\n",
       "        text-align: right;\n",
       "    }\n",
       "</style>\n",
       "<table border=\"1\" class=\"dataframe\">\n",
       "  <thead>\n",
       "    <tr style=\"text-align: right;\">\n",
       "      <th></th>\n",
       "      <th>Rk</th>\n",
       "      <th>Player</th>\n",
       "      <th>Pos</th>\n",
       "      <th>Age</th>\n",
       "      <th>Tm</th>\n",
       "      <th>G</th>\n",
       "      <th>GS</th>\n",
       "      <th>MP</th>\n",
       "      <th>FG</th>\n",
       "      <th>FGA</th>\n",
       "      <th>...</th>\n",
       "      <th>DRB</th>\n",
       "      <th>TRB</th>\n",
       "      <th>AST</th>\n",
       "      <th>STL</th>\n",
       "      <th>BLK</th>\n",
       "      <th>TOV</th>\n",
       "      <th>PF</th>\n",
       "      <th>PTS</th>\n",
       "      <th>ORtg</th>\n",
       "      <th>DRtg</th>\n",
       "    </tr>\n",
       "  </thead>\n",
       "  <tbody>\n",
       "    <tr>\n",
       "      <th>283</th>\n",
       "      <td>243</td>\n",
       "      <td>Karl Malone*\\malonka01</td>\n",
       "      <td>PF</td>\n",
       "      <td>36</td>\n",
       "      <td>UTA</td>\n",
       "      <td>82</td>\n",
       "      <td>82</td>\n",
       "      <td>2947</td>\n",
       "      <td>13.7</td>\n",
       "      <td>26.8</td>\n",
       "      <td>...</td>\n",
       "      <td>11.1</td>\n",
       "      <td>14.2</td>\n",
       "      <td>5.5</td>\n",
       "      <td>1.4</td>\n",
       "      <td>1.3</td>\n",
       "      <td>4.2</td>\n",
       "      <td>4.2</td>\n",
       "      <td>38.1</td>\n",
       "      <td>115.0</td>\n",
       "      <td>100</td>\n",
       "    </tr>\n",
       "    <tr>\n",
       "      <th>336</th>\n",
       "      <td>294</td>\n",
       "      <td>Shaquille O'Neal*\\onealsh01</td>\n",
       "      <td>C</td>\n",
       "      <td>27</td>\n",
       "      <td>LAL</td>\n",
       "      <td>79</td>\n",
       "      <td>79</td>\n",
       "      <td>3163</td>\n",
       "      <td>15.5</td>\n",
       "      <td>27.1</td>\n",
       "      <td>...</td>\n",
       "      <td>12.1</td>\n",
       "      <td>17.5</td>\n",
       "      <td>4.9</td>\n",
       "      <td>0.6</td>\n",
       "      <td>3.9</td>\n",
       "      <td>3.6</td>\n",
       "      <td>4.1</td>\n",
       "      <td>38.1</td>\n",
       "      <td>115.0</td>\n",
       "      <td>95</td>\n",
       "    </tr>\n",
       "    <tr>\n",
       "      <th>215</th>\n",
       "      <td>187</td>\n",
       "      <td>Allen Iverson*\\iversal01</td>\n",
       "      <td>SG</td>\n",
       "      <td>24</td>\n",
       "      <td>PHI</td>\n",
       "      <td>70</td>\n",
       "      <td>70</td>\n",
       "      <td>2853</td>\n",
       "      <td>13.2</td>\n",
       "      <td>31.5</td>\n",
       "      <td>...</td>\n",
       "      <td>3.6</td>\n",
       "      <td>4.8</td>\n",
       "      <td>6.0</td>\n",
       "      <td>2.6</td>\n",
       "      <td>0.1</td>\n",
       "      <td>4.2</td>\n",
       "      <td>2.9</td>\n",
       "      <td>36.1</td>\n",
       "      <td>101.0</td>\n",
       "      <td>102</td>\n",
       "    </tr>\n",
       "    <tr>\n",
       "      <th>83</th>\n",
       "      <td>70</td>\n",
       "      <td>Vince Carter\\cartevi01</td>\n",
       "      <td>SF</td>\n",
       "      <td>23</td>\n",
       "      <td>TOR</td>\n",
       "      <td>82</td>\n",
       "      <td>82</td>\n",
       "      <td>3126</td>\n",
       "      <td>13.1</td>\n",
       "      <td>28.2</td>\n",
       "      <td>...</td>\n",
       "      <td>5.4</td>\n",
       "      <td>7.9</td>\n",
       "      <td>5.3</td>\n",
       "      <td>1.8</td>\n",
       "      <td>1.5</td>\n",
       "      <td>3.0</td>\n",
       "      <td>4.4</td>\n",
       "      <td>35.0</td>\n",
       "      <td>112.0</td>\n",
       "      <td>105</td>\n",
       "    </tr>\n",
       "    <tr>\n",
       "      <th>201</th>\n",
       "      <td>175</td>\n",
       "      <td>Grant Hill\\hillgr01</td>\n",
       "      <td>SF</td>\n",
       "      <td>27</td>\n",
       "      <td>DET</td>\n",
       "      <td>74</td>\n",
       "      <td>74</td>\n",
       "      <td>2776</td>\n",
       "      <td>12.6</td>\n",
       "      <td>25.7</td>\n",
       "      <td>...</td>\n",
       "      <td>7.1</td>\n",
       "      <td>8.9</td>\n",
       "      <td>7.0</td>\n",
       "      <td>1.9</td>\n",
       "      <td>0.8</td>\n",
       "      <td>4.3</td>\n",
       "      <td>3.4</td>\n",
       "      <td>34.5</td>\n",
       "      <td>111.0</td>\n",
       "      <td>105</td>\n",
       "    </tr>\n",
       "  </tbody>\n",
       "</table>\n",
       "<p>5 rows × 31 columns</p>\n",
       "</div>"
      ],
      "text/plain": [
       "      Rk                       Player Pos  Age   Tm   G  GS    MP    FG   FGA  \\\n",
       "283  243       Karl Malone*\\malonka01  PF   36  UTA  82  82  2947  13.7  26.8   \n",
       "336  294  Shaquille O'Neal*\\onealsh01   C   27  LAL  79  79  3163  15.5  27.1   \n",
       "215  187     Allen Iverson*\\iversal01  SG   24  PHI  70  70  2853  13.2  31.5   \n",
       "83    70       Vince Carter\\cartevi01  SF   23  TOR  82  82  3126  13.1  28.2   \n",
       "201  175          Grant Hill\\hillgr01  SF   27  DET  74  74  2776  12.6  25.7   \n",
       "\n",
       "     ...    DRB   TRB  AST  STL  BLK  TOV   PF   PTS   ORtg  DRtg  \n",
       "283  ...   11.1  14.2  5.5  1.4  1.3  4.2  4.2  38.1  115.0   100  \n",
       "336  ...   12.1  17.5  4.9  0.6  3.9  3.6  4.1  38.1  115.0    95  \n",
       "215  ...    3.6   4.8  6.0  2.6  0.1  4.2  2.9  36.1  101.0   102  \n",
       "83   ...    5.4   7.9  5.3  1.8  1.5  3.0  4.4  35.0  112.0   105  \n",
       "201  ...    7.1   8.9  7.0  1.9  0.8  4.3  3.4  34.5  111.0   105  \n",
       "\n",
       "[5 rows x 31 columns]"
      ]
     },
     "execution_count": 20,
     "metadata": {},
     "output_type": "execute_result"
    }
   ],
   "source": [
    "# Who was scoring the most?\n",
    "stats00.sort_values(by='PTS',ascending=False).head()"
   ]
  },
  {
   "cell_type": "code",
   "execution_count": 32,
   "metadata": {},
   "outputs": [
    {
     "name": "stdout",
     "output_type": "stream",
     "text": [
      "['/Users/dbauer/Coding/machine-learning-etc/nba-ML-2/data/1990.csv', '/Users/dbauer/Coding/machine-learning-etc/nba-ML-2/data/1984.csv', '/Users/dbauer/Coding/machine-learning-etc/nba-ML-2/data/1985.csv', '/Users/dbauer/Coding/machine-learning-etc/nba-ML-2/data/1991.csv', '/Users/dbauer/Coding/machine-learning-etc/nba-ML-2/data/1987.csv', '/Users/dbauer/Coding/machine-learning-etc/nba-ML-2/data/1993.csv', '/Users/dbauer/Coding/machine-learning-etc/nba-ML-2/data/1992.csv', '/Users/dbauer/Coding/machine-learning-etc/nba-ML-2/data/1986.csv', '/Users/dbauer/Coding/machine-learning-etc/nba-ML-2/data/1982.csv', '/Users/dbauer/Coding/machine-learning-etc/nba-ML-2/data/1996.csv', '/Users/dbauer/Coding/machine-learning-etc/nba-ML-2/data/1997.csv', '/Users/dbauer/Coding/machine-learning-etc/nba-ML-2/data/1983.csv', '/Users/dbauer/Coding/machine-learning-etc/nba-ML-2/data/1995.csv', '/Users/dbauer/Coding/machine-learning-etc/nba-ML-2/data/1981.csv', '/Users/dbauer/Coding/machine-learning-etc/nba-ML-2/data/2018-3-28.csv', '/Users/dbauer/Coding/machine-learning-etc/nba-ML-2/data/1980.csv', '/Users/dbauer/Coding/machine-learning-etc/nba-ML-2/data/1994.csv', '/Users/dbauer/Coding/machine-learning-etc/nba-ML-2/data/2008.csv', '/Users/dbauer/Coding/machine-learning-etc/nba-ML-2/data/2009.csv', '/Users/dbauer/Coding/machine-learning-etc/nba-ML-2/data/2018.csv', '/Users/dbauer/Coding/machine-learning-etc/nba-ML-2/data/standings-1980.csv', '/Users/dbauer/Coding/machine-learning-etc/nba-ML-2/data/2001.csv', '/Users/dbauer/Coding/machine-learning-etc/nba-ML-2/data/2015.csv', '/Users/dbauer/Coding/machine-learning-etc/nba-ML-2/data/2014.csv', '/Users/dbauer/Coding/machine-learning-etc/nba-ML-2/data/2000.csv', '/Users/dbauer/Coding/machine-learning-etc/nba-ML-2/data/standings-1981.csv', '/Users/dbauer/Coding/machine-learning-etc/nba-ML-2/data/standings-1983.csv', '/Users/dbauer/Coding/machine-learning-etc/nba-ML-2/data/2016.csv', '/Users/dbauer/Coding/machine-learning-etc/nba-ML-2/data/2002.csv', '/Users/dbauer/Coding/machine-learning-etc/nba-ML-2/data/2003.csv', '/Users/dbauer/Coding/machine-learning-etc/nba-ML-2/data/2017.csv', '/Users/dbauer/Coding/machine-learning-etc/nba-ML-2/data/standings-1982.csv', '/Users/dbauer/Coding/machine-learning-etc/nba-ML-2/data/2013.csv', '/Users/dbauer/Coding/machine-learning-etc/nba-ML-2/data/2007.csv', '/Users/dbauer/Coding/machine-learning-etc/nba-ML-2/data/2006.csv', '/Users/dbauer/Coding/machine-learning-etc/nba-ML-2/data/2012.csv', '/Users/dbauer/Coding/machine-learning-etc/nba-ML-2/data/2004.csv', '/Users/dbauer/Coding/machine-learning-etc/nba-ML-2/data/2010.csv', '/Users/dbauer/Coding/machine-learning-etc/nba-ML-2/data/2011.csv', '/Users/dbauer/Coding/machine-learning-etc/nba-ML-2/data/2005.csv', '/Users/dbauer/Coding/machine-learning-etc/nba-ML-2/data/standings-1984.csv', '/Users/dbauer/Coding/machine-learning-etc/nba-ML-2/data/1999.csv', '/Users/dbauer/Coding/machine-learning-etc/nba-ML-2/data/1998.csv', '/Users/dbauer/Coding/machine-learning-etc/nba-ML-2/data/1988.csv', '/Users/dbauer/Coding/machine-learning-etc/nba-ML-2/data/mvp-all-years.csv', '/Users/dbauer/Coding/machine-learning-etc/nba-ML-2/data/1980-2017-labeled.csv', '/Users/dbauer/Coding/machine-learning-etc/nba-ML-2/data/1980-2017-labeled-cleaned.csv', '/Users/dbauer/Coding/machine-learning-etc/nba-ML-2/data/1989.csv']\n",
      "dict_keys(['/Users/dbauer/Coding/machine-learning-etc/nba-ML-2/data/2011.csv', '/Users/dbauer/Coding/machine-learning-etc/nba-ML-2/data/2005.csv', '/Users/dbauer/Coding/machine-learning-etc/nba-ML-2/data/standings-1984.csv', '/Users/dbauer/Coding/machine-learning-etc/nba-ML-2/data/1999.csv', '/Users/dbauer/Coding/machine-learning-etc/nba-ML-2/data/1998.csv', '/Users/dbauer/Coding/machine-learning-etc/nba-ML-2/data/1988.csv', '/Users/dbauer/Coding/machine-learning-etc/nba-ML-2/data/mvp-all-years.csv', '/Users/dbauer/Coding/machine-learning-etc/nba-ML-2/data/1980-2017-labeled.csv', '/Users/dbauer/Coding/machine-learning-etc/nba-ML-2/data/1980-2017-labeled-cleaned.csv', '/Users/dbauer/Coding/machine-learning-etc/nba-ML-2/data/1989.csv', '1990', '1984', '1985', '1991', '1987', '1993', '1992', '1986', '1982', '1996', '1997', '1983', '1995', '1981', '2018-3-28', '1980', '1994', '2008', '2009', '2018', 'standings-1980', '2001', '2015', '2014', '2000', 'standings-1981', 'standings-1983', '2016', 'standings-1982', '2013', '2007', '2006', '2012', '2004', '2010', '2002', '2003', '2017'])\n"
     ]
    },
    {
     "ename": "KeyError",
     "evalue": "'1988'",
     "output_type": "error",
     "traceback": [
      "\u001b[0;31m---------------------------------------------------------------------------\u001b[0m",
      "\u001b[0;31mKeyError\u001b[0m                                  Traceback (most recent call last)",
      "\u001b[0;32m<ipython-input-32-68981b266b04>\u001b[0m in \u001b[0;36m<module>\u001b[0;34m()\u001b[0m\n\u001b[1;32m      9\u001b[0m \u001b[0mprint\u001b[0m\u001b[0;34m(\u001b[0m\u001b[0mfile_dict\u001b[0m\u001b[0;34m.\u001b[0m\u001b[0mkeys\u001b[0m\u001b[0;34m(\u001b[0m\u001b[0;34m)\u001b[0m\u001b[0;34m)\u001b[0m\u001b[0;34m\u001b[0m\u001b[0m\n\u001b[1;32m     10\u001b[0m \u001b[0;32mfor\u001b[0m \u001b[0my\u001b[0m \u001b[0;32min\u001b[0m \u001b[0mrange\u001b[0m\u001b[0;34m(\u001b[0m\u001b[0;36m1980\u001b[0m\u001b[0;34m,\u001b[0m\u001b[0;36m2013\u001b[0m\u001b[0;34m)\u001b[0m\u001b[0;34m:\u001b[0m\u001b[0;34m\u001b[0m\u001b[0m\n\u001b[0;32m---> 11\u001b[0;31m     \u001b[0mfile_dict\u001b[0m\u001b[0;34m[\u001b[0m\u001b[0mstr\u001b[0m\u001b[0;34m(\u001b[0m\u001b[0my\u001b[0m\u001b[0;34m)\u001b[0m\u001b[0;34m]\u001b[0m \u001b[0;34m=\u001b[0m \u001b[0mfile_dict\u001b[0m\u001b[0;34m[\u001b[0m\u001b[0mstr\u001b[0m\u001b[0;34m(\u001b[0m\u001b[0my\u001b[0m\u001b[0;34m)\u001b[0m\u001b[0;34m]\u001b[0m\u001b[0;34m.\u001b[0m\u001b[0massign\u001b[0m\u001b[0;34m(\u001b[0m\u001b[0mYear\u001b[0m \u001b[0;34m=\u001b[0m \u001b[0my\u001b[0m\u001b[0;34m)\u001b[0m\u001b[0;34m\u001b[0m\u001b[0m\n\u001b[0m\u001b[1;32m     12\u001b[0m     \u001b[0mfile_dict\u001b[0m\u001b[0;34m[\u001b[0m\u001b[0mstr\u001b[0m\u001b[0;34m(\u001b[0m\u001b[0my\u001b[0m\u001b[0;34m)\u001b[0m\u001b[0;34m]\u001b[0m \u001b[0;34m=\u001b[0m \u001b[0mfile_dict\u001b[0m\u001b[0;34m[\u001b[0m\u001b[0mstr\u001b[0m\u001b[0;34m(\u001b[0m\u001b[0my\u001b[0m\u001b[0;34m)\u001b[0m\u001b[0;34m]\u001b[0m\u001b[0;34m.\u001b[0m\u001b[0mdrop\u001b[0m\u001b[0;34m(\u001b[0m\u001b[0mcolumns\u001b[0m\u001b[0;34m=\u001b[0m\u001b[0;34m[\u001b[0m\u001b[0;34m'Unnamed: 29'\u001b[0m\u001b[0;34m]\u001b[0m\u001b[0;34m)\u001b[0m\u001b[0;34m\u001b[0m\u001b[0m\n\u001b[1;32m     13\u001b[0m     \u001b[0mfile_dict\u001b[0m\u001b[0;34m[\u001b[0m\u001b[0mstr\u001b[0m\u001b[0;34m(\u001b[0m\u001b[0my\u001b[0m\u001b[0;34m)\u001b[0m\u001b[0;34m]\u001b[0m \u001b[0;34m=\u001b[0m \u001b[0mfile_dict\u001b[0m\u001b[0;34m[\u001b[0m\u001b[0mstr\u001b[0m\u001b[0;34m(\u001b[0m\u001b[0my\u001b[0m\u001b[0;34m)\u001b[0m\u001b[0;34m]\u001b[0m\u001b[0;34m.\u001b[0m\u001b[0massign\u001b[0m\u001b[0;34m(\u001b[0m\u001b[0mMVP\u001b[0m \u001b[0;34m=\u001b[0m \u001b[0;36m0\u001b[0m\u001b[0;34m)\u001b[0m\u001b[0;34m\u001b[0m\u001b[0m\n",
      "\u001b[0;31mKeyError\u001b[0m: '1988'"
     ]
    }
   ],
   "source": [
    "# time to move on to collecting all the seasons together.\n",
    "all_files = glob.glob(os.path.join('/Users/dbauer/Coding/machine-learning-etc/nba-ML-2/data','*csv'))\n",
    "file_dict = dict.fromkeys(all_files)\n",
    "print(all_files)\n",
    "for f in all_files:\n",
    "    file_dict[f] = pd.read_csv(f)\n",
    "for k, f in file_dict.items():\n",
    "    file_dict[(k.replace('/Users/dbauer/Coding/machine-learning-etc/nba-ML-2/data/','')).replace('.csv','')] = file_dict.pop(k)\n",
    "print(file_dict.keys())\n",
    "for y in range(1980,2013):\n",
    "    file_dict[str(y)] = file_dict[str(y)].assign(Year = y)\n",
    "    file_dict[str(y)] = file_dict[str(y)].drop(columns=['Unnamed: 29'])\n",
    "    file_dict[str(y)] = file_dict[str(y)].assign(MVP = 0)\n",
    "season_dict = file_dict.copy()\n",
    "mvps = season_dict.pop('mvp-all-years')\n",
    "big_frame = pd.concat(season_dict.values(),ignore_index=True)\n",
    "# Get rid of players in the bottom quartile of minutes played.\n",
    "big_frame = big_frame[big_frame.MP > 314]\n",
    "\n",
    "def get_mvp_by_year(y):\n",
    "    if(y in range(1980,2013)):\n",
    "        return str(list(mvps.loc[mvps[\"Year\"]==y].to_dict()['MVP'].values())[0])\n",
    "    else:\n",
    "        print(\"Year not available.\")\n",
    "        return -1\n",
    "def get_frame_by_year(y):\n",
    "    return big_frame.loc[big_frame[\"Year\"]==y]\n",
    "def find_mvp_idx_by_year(y):\n",
    "    x = get_frame_by_year(y)\n",
    "    return x.loc[x['Player'].str.contains(get_mvp_by_year(y))].iloc[-1].name"
   ]
  },
  {
   "cell_type": "code",
   "execution_count": null,
   "metadata": {},
   "outputs": [],
   "source": [
    "mvp_indices = list(map(find_mvp_idx_by_year,list(range(1980,2010))))\n",
    "big_frame.loc[mvp_indices[2],'MVP']"
   ]
  },
  {
   "cell_type": "code",
   "execution_count": null,
   "metadata": {},
   "outputs": [],
   "source": [
    "for i in mvp_indices:\n",
    "    big_frame.loc[i,'MVP'] = 1"
   ]
  },
  {
   "cell_type": "code",
   "execution_count": null,
   "metadata": {},
   "outputs": [],
   "source": [
    "y_vals = dict.fromkeys(range(1980,2012))\n",
    "x_vals=dict.fromkeys(range(1980,2012))\n",
    "for y in range(1980,2012):\n",
    "    y_vals[y] = big_frame[big_frame.Year == y][\"MVP\"]\n",
    "    x_vals[y] = big_frame[big_frame.Year == y][[\"G\",\"MP\",\"FG\",\"FGA\",\"3P\",\"3PA\",\"2P\",\"2PA\",\"FT\",\"FTA\",\"ORB\",\"DRB\",\"AST\",\"STL\",\"BLK\",\"TOV\",\"PF\",\"PTS\",\"ORtg\",\"DRtg\"]]"
   ]
  },
  {
   "cell_type": "code",
   "execution_count": null,
   "metadata": {},
   "outputs": [],
   "source": []
  },
  {
   "cell_type": "code",
   "execution_count": null,
   "metadata": {},
   "outputs": [],
   "source": [
    "my_svc = sklearn.svm.SVC()"
   ]
  },
  {
   "cell_type": "code",
   "execution_count": null,
   "metadata": {
    "scrolled": true
   },
   "outputs": [],
   "source": [
    "my_svc.fit(x_vals[1990],y_vals[1990])"
   ]
  },
  {
   "cell_type": "code",
   "execution_count": null,
   "metadata": {},
   "outputs": [],
   "source": [
    "list(my_svc.predict(x_vals[2008])).index(1)"
   ]
  },
  {
   "cell_type": "code",
   "execution_count": null,
   "metadata": {},
   "outputs": [],
   "source": [
    "x_vals[1982]"
   ]
  },
  {
   "cell_type": "code",
   "execution_count": null,
   "metadata": {},
   "outputs": [],
   "source": []
  }
 ],
 "metadata": {
  "kernelspec": {
   "display_name": "Python 3",
   "language": "python",
   "name": "python3"
  },
  "language_info": {
   "codemirror_mode": {
    "name": "ipython",
    "version": 3
   },
   "file_extension": ".py",
   "mimetype": "text/x-python",
   "name": "python",
   "nbconvert_exporter": "python",
   "pygments_lexer": "ipython3",
   "version": "3.6.6"
  }
 },
 "nbformat": 4,
 "nbformat_minor": 2
}
