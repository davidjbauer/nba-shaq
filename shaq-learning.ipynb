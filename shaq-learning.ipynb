{
 "cells": [
  {
   "cell_type": "code",
   "execution_count": 429,
   "metadata": {},
   "outputs": [],
   "source": [
    "import pandas as pd\n",
    "pd.options.mode.chained_assignment = None  # default='warn'\n",
    "import numpy as np\n",
    "import matplotlib.pyplot as plt\n",
    "import glob \n",
    "import os\n",
    "\n",
    "from sklearn.metrics import confusion_matrix\n",
    "from sklearn.preprocessing import scale, StandardScaler\n",
    "from sklearn.pipeline import Pipeline\n",
    "from sklearn.model_selection import train_test_split, GridSearchCV\n",
    "from sklearn.metrics import recall_score, accuracy_score, precision_score, precision_recall_curve, f1_score, roc_curve\n",
    "from sklearn.tree import DecisionTreeClassifier\n",
    "from sklearn.ensemble import AdaBoostClassifier, RandomForestClassifier\n",
    "from sklearn.decomposition import PCA\n",
    "from sklearn.calibration import CalibratedClassifierCV\n",
    "from xgboost import XGBClassifier\n",
    "\n",
    "player_df = pd.read_json(\"data/1980-2018-per100-labeled.json\")"
   ]
  },
  {
   "cell_type": "code",
   "execution_count": 232,
   "metadata": {},
   "outputs": [],
   "source": [
    "y_features = \"MVP\"\n",
    "x_features = [\"Player\",\"Year\",\"MP\",\"FG\",\"FGA\",\"3P\",\"3PA\",\"2P\",\"2PA\",\"FT\",\"FTA\",\"ORB\",\"DRB\",\"AST\",\"STL\",\"BLK\",\"TOV\",\"PF\",\"PTS\"]\n",
    "x_all = player_df[x_features]\n",
    "y_all = player_df[y_features]\n",
    "# Drop the columns containing text data, leaving only numerical data\n",
    "x_all_num = x_all.drop(columns=[\"Player\",\"Year\"])"
   ]
  },
  {
   "cell_type": "code",
   "execution_count": 311,
   "metadata": {},
   "outputs": [],
   "source": [
    "x_old = x_all.loc[x_all.Year < 2018]\n",
    "y_old = y_all.loc[x_all.Year < 2018]\n",
    "x_new = x_all.loc[x_all.Year == 2018]\n",
    "y_new = y_all.loc[x_all.Year == 2018]\n",
    "x_train, x_test, y_train, y_test = train_test_split(x_old, y_old, test_size=0.2)"
   ]
  },
  {
   "cell_type": "code",
   "execution_count": 326,
   "metadata": {},
   "outputs": [],
   "source": [
    "x_train_num = x_train.drop(columns=[\"Player\",\"Year\"])\n",
    "x_test_num = x_test.drop(columns=[\"Player\",\"Year\"])\n",
    "x_new_num = x_new.drop(columns=[\"Player\",\"Year\"])"
   ]
  },
  {
   "cell_type": "code",
   "execution_count": 398,
   "metadata": {},
   "outputs": [],
   "source": [
    "scale_pipe = lambda x: Pipeline([(\"scaler\", StandardScaler()), x])\n",
    "calibrate = lambda x: CalibratedClassifierCV(x, method='isotonic')"
   ]
  },
  {
   "cell_type": "code",
   "execution_count": 399,
   "metadata": {
    "scrolled": true
   },
   "outputs": [
    {
     "data": {
      "text/plain": [
       "[<matplotlib.lines.Line2D at 0x10d6d5390>]"
      ]
     },
     "execution_count": 399,
     "metadata": {},
     "output_type": "execute_result"
    },
    {
     "data": {
      "image/png": "[encoded data removed]",
      "text/plain": [
       "<Figure size 432x288 with 1 Axes>"
      ]
     },
     "metadata": {
      "needs_background": "light"
     },
     "output_type": "display_data"
    }
   ],
   "source": [
    "tree_base_clf = DecisionTreeClassifier(max_depth=2)\n",
    "ada_calib = calibrate(AdaBoostClassifier(tree_base_clf, n_estimators=100, learning_rate=0.1))\n",
    "ada_clf = scale_pipe((\"ada\", ada_calib))\n",
    "ada_clf.fit(x_train_num, y_train)\n",
    "precf,recf,thrf = precision_recall_curve(y_test, ada_clf.predict_proba(x_test_num).transpose()[1], pos_label=1)\n",
    "plt.plot(recf, precf)"
   ]
  },
  {
   "cell_type": "code",
   "execution_count": 403,
   "metadata": {},
   "outputs": [
    {
     "data": {
      "text/plain": [
       "[<matplotlib.lines.Line2D at 0x11937bd30>]"
      ]
     },
     "execution_count": 403,
     "metadata": {},
     "output_type": "execute_result"
    },
    {
     "data": {
      "image/png": "[encoded data removed]",
      "text/plain": [
       "<Figure size 432x288 with 1 Axes>"
      ]
     },
     "metadata": {
      "needs_background": "light"
     },
     "output_type": "display_data"
    }
   ],
   "source": [
    "xgb_calib = calibrate(XGBClassifier(learning_rate = 0.1, n_jobs=2, n_estimators=100))\n",
    "xgb_clf = scale_pipe((\"xgb\", xgb_calib))\n",
    "xgb_clf.fit(x_train_num, y_train)\n",
    "precf_gb, recf_gb, thrf_gb = precision_recall_curve(y_test, xgb_clf.predict_proba(x_test_num).transpose()[1], pos_label=1)\n",
    "plt.plot(recf_gb, precf_gb)"
   ]
  },
  {
   "cell_type": "code",
   "execution_count": 346,
   "metadata": {},
   "outputs": [
    {
     "name": "stdout",
     "output_type": "stream",
     "text": [
      "(array([143, 177]),)\n",
      "(array([ 11,  85,  87,  94, 103, 105, 109, 141, 143, 170, 177, 270, 355]),)\n"
     ]
    }
   ],
   "source": [
    "xgb_pred_prob = xgb_clf.predict_proba(x_new_num).transpose()[1]\n",
    "ada_pred_prob = ada_clf.predict_proba(x_new_num).transpose()[1]\n",
    "xgb_pred_indices = np.where(xgb_pred_prob > 0.1)\n",
    "ada_pred_indices = np.where(ada_pred_prob > 0.15)\n",
    "print(xgb_pred_indices)\n",
    "print(ada_pred_indices)"
   ]
  },
  {
   "cell_type": "code",
   "execution_count": 333,
   "metadata": {},
   "outputs": [
    {
     "data": {
      "text/plain": [
       "array([0.20874907, 0.12690267], dtype=float32)"
      ]
     },
     "execution_count": 333,
     "metadata": {},
     "output_type": "execute_result"
    }
   ],
   "source": [
    "xgb_clf.predict_proba(x_new_num).transpose()[1][xgb_pred_indices]"
   ]
  },
  {
   "cell_type": "code",
   "execution_count": 407,
   "metadata": {},
   "outputs": [
    {
     "data": {
      "text/plain": [
       "[<matplotlib.lines.Line2D at 0x1117784a8>]"
      ]
     },
     "execution_count": 407,
     "metadata": {},
     "output_type": "execute_result"
    },
    {
     "data": {
      "image/png": "[encoded data removed]",
      "text/plain": [
       "<Figure size 432x288 with 1 Axes>"
      ]
     },
     "metadata": {
      "needs_background": "light"
     },
     "output_type": "display_data"
    }
   ],
   "source": [
    "rf_calib = calibrate(RandomForestClassifier(n_jobs=2))\n",
    "rf_clf = scale_pipe((\"forest\", rf_calib))\n",
    "rf_clf.fit(x_train_num, y_train)\n",
    "rf_pred_prob = rf_clf.predict_proba(x_new_num).transpose()[1]\n",
    "precf_rf,recf_rf,thrf_rf = precision_recall_curve(y_test, rf_clf.predict_proba(x_test_num).transpose()[1], pos_label=1)\n",
    "plt.plot(recf, precf)"
   ]
  },
  {
   "cell_type": "code",
   "execution_count": 408,
   "metadata": {},
   "outputs": [
    {
     "data": {
      "text/plain": [
       "array([0.10104667, 0.1069598 , 0.1785034 , 0.16840569, 0.13288497])"
      ]
     },
     "execution_count": 408,
     "metadata": {},
     "output_type": "execute_result"
    }
   ],
   "source": [
    "stacked_prob = np.mean([xgb_pred_prob, ada_pred_prob, rf_pred_prob], axis=0)\n",
    "stacked_indices = np.where(stacked_prob > 0.1)\n",
    "stacked_prob[stacked_indices]"
   ]
  },
  {
   "cell_type": "code",
   "execution_count": 409,
   "metadata": {},
   "outputs": [
    {
     "data": {
      "text/html": [
       "<div>\n",
       "<style scoped>\n",
       "    .dataframe tbody tr th:only-of-type {\n",
       "        vertical-align: middle;\n",
       "    }\n",
       "\n",
       "    .dataframe tbody tr th {\n",
       "        vertical-align: top;\n",
       "    }\n",
       "\n",
       "    .dataframe thead th {\n",
       "        text-align: right;\n",
       "    }\n",
       "</style>\n",
       "<table border=\"1\" class=\"dataframe\">\n",
       "  <thead>\n",
       "    <tr style=\"text-align: right;\">\n",
       "      <th></th>\n",
       "      <th>Player</th>\n",
       "      <th>Year</th>\n",
       "      <th>MP</th>\n",
       "      <th>FG</th>\n",
       "      <th>FGA</th>\n",
       "      <th>3P</th>\n",
       "      <th>3PA</th>\n",
       "      <th>2P</th>\n",
       "      <th>2PA</th>\n",
       "      <th>FT</th>\n",
       "      <th>FTA</th>\n",
       "      <th>ORB</th>\n",
       "      <th>DRB</th>\n",
       "      <th>AST</th>\n",
       "      <th>STL</th>\n",
       "      <th>BLK</th>\n",
       "      <th>TOV</th>\n",
       "      <th>PF</th>\n",
       "      <th>PTS</th>\n",
       "    </tr>\n",
       "  </thead>\n",
       "  <tbody>\n",
       "    <tr>\n",
       "      <th>8338</th>\n",
       "      <td>Stephen Curry</td>\n",
       "      <td>2018</td>\n",
       "      <td>1605</td>\n",
       "      <td>12.5</td>\n",
       "      <td>25.3</td>\n",
       "      <td>6.2</td>\n",
       "      <td>14.7</td>\n",
       "      <td>6.2</td>\n",
       "      <td>10.6</td>\n",
       "      <td>8.1</td>\n",
       "      <td>8.9</td>\n",
       "      <td>1.0</td>\n",
       "      <td>6.5</td>\n",
       "      <td>9.2</td>\n",
       "      <td>2.4</td>\n",
       "      <td>0.2</td>\n",
       "      <td>4.5</td>\n",
       "      <td>3.4</td>\n",
       "      <td>39.4</td>\n",
       "    </tr>\n",
       "    <tr>\n",
       "      <th>8347</th>\n",
       "      <td>DeMar DeRozan</td>\n",
       "      <td>2018</td>\n",
       "      <td>2353</td>\n",
       "      <td>11.9</td>\n",
       "      <td>25.9</td>\n",
       "      <td>1.7</td>\n",
       "      <td>5.2</td>\n",
       "      <td>10.3</td>\n",
       "      <td>20.7</td>\n",
       "      <td>8.6</td>\n",
       "      <td>10.4</td>\n",
       "      <td>1.1</td>\n",
       "      <td>4.7</td>\n",
       "      <td>7.4</td>\n",
       "      <td>1.7</td>\n",
       "      <td>0.4</td>\n",
       "      <td>3.3</td>\n",
       "      <td>2.6</td>\n",
       "      <td>34.2</td>\n",
       "    </tr>\n",
       "    <tr>\n",
       "      <th>8396</th>\n",
       "      <td>James Harden</td>\n",
       "      <td>2018</td>\n",
       "      <td>2134</td>\n",
       "      <td>12.6</td>\n",
       "      <td>28.0</td>\n",
       "      <td>5.4</td>\n",
       "      <td>14.3</td>\n",
       "      <td>7.2</td>\n",
       "      <td>13.6</td>\n",
       "      <td>12.0</td>\n",
       "      <td>13.8</td>\n",
       "      <td>0.8</td>\n",
       "      <td>6.3</td>\n",
       "      <td>12.0</td>\n",
       "      <td>2.6</td>\n",
       "      <td>1.0</td>\n",
       "      <td>6.0</td>\n",
       "      <td>3.4</td>\n",
       "      <td>42.6</td>\n",
       "    </tr>\n",
       "    <tr>\n",
       "      <th>8430</th>\n",
       "      <td>LeBron James</td>\n",
       "      <td>2018</td>\n",
       "      <td>2518</td>\n",
       "      <td>13.7</td>\n",
       "      <td>25.1</td>\n",
       "      <td>2.4</td>\n",
       "      <td>6.5</td>\n",
       "      <td>11.3</td>\n",
       "      <td>18.7</td>\n",
       "      <td>5.9</td>\n",
       "      <td>8.2</td>\n",
       "      <td>1.5</td>\n",
       "      <td>9.8</td>\n",
       "      <td>11.8</td>\n",
       "      <td>2.0</td>\n",
       "      <td>1.3</td>\n",
       "      <td>5.6</td>\n",
       "      <td>2.2</td>\n",
       "      <td>35.7</td>\n",
       "    </tr>\n",
       "    <tr>\n",
       "      <th>8608</th>\n",
       "      <td>Russell Westbrook</td>\n",
       "      <td>2018</td>\n",
       "      <td>2496</td>\n",
       "      <td>13.0</td>\n",
       "      <td>29.1</td>\n",
       "      <td>1.6</td>\n",
       "      <td>5.7</td>\n",
       "      <td>11.4</td>\n",
       "      <td>23.4</td>\n",
       "      <td>7.0</td>\n",
       "      <td>9.5</td>\n",
       "      <td>2.5</td>\n",
       "      <td>10.8</td>\n",
       "      <td>14.0</td>\n",
       "      <td>2.5</td>\n",
       "      <td>0.3</td>\n",
       "      <td>6.5</td>\n",
       "      <td>3.3</td>\n",
       "      <td>34.6</td>\n",
       "    </tr>\n",
       "  </tbody>\n",
       "</table>\n",
       "</div>"
      ],
      "text/plain": [
       "                 Player  Year    MP    FG   FGA   3P   3PA    2P   2PA    FT  \\\n",
       "8338      Stephen Curry  2018  1605  12.5  25.3  6.2  14.7   6.2  10.6   8.1   \n",
       "8347      DeMar DeRozan  2018  2353  11.9  25.9  1.7   5.2  10.3  20.7   8.6   \n",
       "8396       James Harden  2018  2134  12.6  28.0  5.4  14.3   7.2  13.6  12.0   \n",
       "8430       LeBron James  2018  2518  13.7  25.1  2.4   6.5  11.3  18.7   5.9   \n",
       "8608  Russell Westbrook  2018  2496  13.0  29.1  1.6   5.7  11.4  23.4   7.0   \n",
       "\n",
       "       FTA  ORB   DRB   AST  STL  BLK  TOV   PF   PTS  \n",
       "8338   8.9  1.0   6.5   9.2  2.4  0.2  4.5  3.4  39.4  \n",
       "8347  10.4  1.1   4.7   7.4  1.7  0.4  3.3  2.6  34.2  \n",
       "8396  13.8  0.8   6.3  12.0  2.6  1.0  6.0  3.4  42.6  \n",
       "8430   8.2  1.5   9.8  11.8  2.0  1.3  5.6  2.2  35.7  \n",
       "8608   9.5  2.5  10.8  14.0  2.5  0.3  6.5  3.3  34.6  "
      ]
     },
     "execution_count": 409,
     "metadata": {},
     "output_type": "execute_result"
    }
   ],
   "source": [
    "mvp_candiates = x_new.iloc[stacked_indices]"
   ]
  },
  {
   "cell_type": "markdown",
   "metadata": {},
   "source": [
    "Picking an arbitrary probability threshold for which players get shown in my predictions. I don't really understand why the predicted probabilities are so low."
   ]
  },
  {
   "cell_type": "code",
   "execution_count": 430,
   "metadata": {},
   "outputs": [],
   "source": [
    "x_new['Probability'] = stacked_prob\n",
    "mvp_candidates = x_new.loc[x_new.Probability > 0.10]\n",
    "mvp_candidates.to_json(\"data/mvp-predict-2018-beta.json\")"
   ]
  }
 ],
 "metadata": {
  "kernelspec": {
   "display_name": "Python 3",
   "language": "python",
   "name": "python3"
  },
  "language_info": {
   "codemirror_mode": {
    "name": "ipython",
    "version": 3
   },
   "file_extension": ".py",
   "mimetype": "text/x-python",
   "name": "python",
   "nbconvert_exporter": "python",
   "pygments_lexer": "ipython3",
   "version": "3.6.6"
  }
 },
 "nbformat": 4,
 "nbformat_minor": 2
}
