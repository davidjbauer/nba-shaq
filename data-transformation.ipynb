{
 "cells": [
  {
   "cell_type": "code",
   "execution_count": 1,
   "metadata": {},
   "outputs": [],
   "source": [
    "import pandas as pd\n",
    "pd.set_option('display.max_rows', 500)\n",
    "pd.set_option('display.max_columns', 500)\n",
    "from bs4 import BeautifulSoup\n",
    "import urllib.request\n",
    "import numpy as np\n",
    "import time\n",
    "from collections import defaultdict"
   ]
  },
  {
   "cell_type": "code",
   "execution_count": 2,
   "metadata": {},
   "outputs": [],
   "source": [
    "def clean_bkref_dataframe(df):\n",
    "    \"\"\" Cleans dataframes we get from importing bkref CSV files.\n",
    "    \"\"\"\n",
    "    df = df.drop(columns=['Unnamed: 29'])\n",
    "    df = df.drop(columns=['Rk'])\n",
    "    df = df.drop_duplicates(subset=['Player'])\n",
    "    df['Year'] = 2019\n",
    "    df[['Player', 'player_id']] = df['Player'].str.split('\\\\', expand=True)\n",
    "    df = df.reset_index(drop=True)\n",
    "    return df"
   ]
  },
  {
   "cell_type": "code",
   "execution_count": 12,
   "metadata": {},
   "outputs": [],
   "source": [
    "team_df = pd.read_csv(\"data/nba-api-team-stats.csv\")\n",
    "team_df = team_df.drop(columns=['Unnamed: 0'])\n",
    "team_df = team_df[team_df.YEAR >= 1980]\n",
    "team_df.columns = ['Tm', 'Year', 'GP', 'WINS', 'LOSSES', 'WIN_PCT', 'CONF_RANK',\n",
    "       'DIV_RANK', 'PO_WINS', 'PO_LOSSES', 'CONF_COUNT', 'DIV_COUNT',\n",
    "       'NBA_FINALS_APPEARANCE', 'FGM', 'FGA', 'FG_PCT', 'FG3M', 'FG3A',\n",
    "       'FG3_PCT', 'FTM', 'FTA', 'FT_PCT', 'OREB', 'DREB', 'REB', 'AST', 'PF',\n",
    "       'STL', 'TOV', 'BLK', 'PTS', 'PTS_RANK']\n",
    "team_df.to_json(\"data/team-stats.json\")"
   ]
  },
  {
   "cell_type": "code",
   "execution_count": 13,
   "metadata": {},
   "outputs": [],
   "source": [
    "player_df = pd.read_json(\"data/1980-2018-per100-labeled.json\")\n",
    "player_team_combined = pd.merge(player_df, team_df, on=['Tm','Year'])\n",
    "player_team_combined.to_json(\"data/combined-player-team-stats.json\")"
   ]
  },
  {
   "cell_type": "markdown",
   "metadata": {},
   "source": [
    "Using BeautifulSoup to parse basketball-reference.com per possession stats"
   ]
  },
  {
   "cell_type": "code",
   "execution_count": 21,
   "metadata": {},
   "outputs": [],
   "source": [
    "def get_df_from_html(html_file):\n",
    "    with open(html_file) as html_doc:\n",
    "        soup = BeautifulSoup(html_doc, 'html.parser')\n",
    "    table = soup.find(\"table\")\n",
    "    table_body = table.find('tbody')\n",
    "    rows = table_body.find_all('tr')\n",
    "    table_data = []\n",
    "    for row in rows:\n",
    "        cols = row.find_all('td')\n",
    "        cols = [ele.text.strip() for ele in cols]\n",
    "        table_data.append([ele for ele in cols]) \n",
    "    \n",
    "    df = pd.DataFrame(table_data)\n",
    "    \n",
    "    table_head = table.find('thead')\n",
    "    headers = table_head.find_all('th')\n",
    "    header_data = []\n",
    "    cols = table_head.find_all('th')\n",
    "    cols = [ele.text.strip() for ele in cols]\n",
    "    header_data.append([ele for ele in cols])\n",
    "    header_data = header_data[0]\n",
    "    header_data.remove('Rk')\n",
    "    df.columns = header_data\n",
    "    \n",
    "    return df\n",
    "\n",
    "def process_soupy_df(df, yr):\n",
    "    df['Year'] = yr\n",
    "    df.to_json(f\"data/scraped-player-data-{yr}.json\")\n",
    "    df = pd.read_json(f\"data/scraped-player-data-{yr}.json\")\n",
    "    df.replace('', np.nan)\n",
    "    df = df.loc[df.MP > 300]\n",
    "    df = df.fillna(0)\n",
    "    return df"
   ]
  },
  {
   "cell_type": "markdown",
   "metadata": {},
   "source": [
    "Business happens down here. We scrape 2019 stats and combine them with 2019 team stats."
   ]
  },
  {
   "cell_type": "code",
   "execution_count": 22,
   "metadata": {},
   "outputs": [],
   "source": [
    "yr = 2019\n",
    "team_df = pd.read_json(\"data/team-stats.json\")\n",
    "stats_url = f\"https://www.basketball-reference.com/leagues/NBA_{yr}_per_poss.html\"\n",
    "stats_fname = f\"data/{yr}_per_poss.html\"\n",
    "urllib.request.urlretrieve(stats_url, filename=stats_fname)\n",
    "scraped_player_df = get_df_from_html(stats_fname)\n",
    "scraped_player_df = process_soupy_df(scraped_player_df, yr)\n",
    "\n",
    "\n",
    "combined_19 = pd.merge(scraped_player_df, team_df, on=['Tm','Year'])\n",
    "combined_19.to_json(\"data/2019-combined.json\")"
   ]
  },
  {
   "cell_type": "markdown",
   "metadata": {},
   "source": [
    "Get advanced stat HTML files"
   ]
  },
  {
   "cell_type": "code",
   "execution_count": 23,
   "metadata": {},
   "outputs": [
    {
     "data": {
      "text/plain": [
       "('data/2019_adv.html', <http.client.HTTPMessage at 0x1178a2668>)"
      ]
     },
     "execution_count": 23,
     "metadata": {},
     "output_type": "execute_result"
    }
   ],
   "source": [
    "# Get updated advanced stats for this season\n",
    "urllib.request.urlretrieve(f\"https://www.basketball-reference.com/leagues/NBA_{yr}_advanced.html\",\n",
    "                               filename=f\"data/{yr}_adv.html\")\n",
    "## Get all advanced stat files. \n",
    "# for yr in range(1980, 2020):\n",
    "#     time.sleep(5)\n",
    "#     urllib.request.urlretrieve(f\"https://www.basketball-reference.com/leagues/NBA_{yr}_advanced.html\",\n",
    "#                                filename=f\"data/{yr}_adv.html\")"
   ]
  },
  {
   "cell_type": "code",
   "execution_count": 24,
   "metadata": {},
   "outputs": [],
   "source": [
    "adv_stat_df = pd.DataFrame()\n",
    "for y in range(1980, yr+1):\n",
    "    curr_df = get_df_from_html(f\"data/{y}_adv.html\")\n",
    "    curr_df['Year'] = y\n",
    "    adv_stat_df = adv_stat_df.append(curr_df)"
   ]
  },
  {
   "cell_type": "code",
   "execution_count": 25,
   "metadata": {},
   "outputs": [],
   "source": [
    "adv_stat_df = adv_stat_df[['Player', 'Year', 'Tm', 'PER', 'TS%', '3PAr', 'FTr',\n",
    "       'ORB%', 'DRB%', 'TRB%', 'AST%', 'STL%', 'BLK%', 'TOV%', 'USG%',\n",
    "       'OWS', 'DWS', 'WS', 'WS/48', 'OBPM', 'DBPM', 'BPM', 'VORP']]\n",
    "#adv_stat_df.to_json(\"data/advanced-stats.json\")\n",
    "adv_combined = pd.merge(player_team_combined, adv_stat_df, on=['Player','Year', 'Tm'])\n",
    "adv_combined.to_json(\"data/combined-player-team-stats.json\")"
   ]
  },
  {
   "cell_type": "code",
   "execution_count": 26,
   "metadata": {},
   "outputs": [],
   "source": [
    "pdf_19 = pd.read_json(\"data/2019-combined.json\")\n",
    "adv_combined_19 = pd.merge(pdf_19, adv_stat_df, on=['Player','Year', 'Tm'])\n",
    "adv_combined_19.to_json(\"data/2019-combined.json\")"
   ]
  },
  {
   "cell_type": "code",
   "execution_count": null,
   "metadata": {},
   "outputs": [],
   "source": []
  },
  {
   "cell_type": "code",
   "execution_count": null,
   "metadata": {},
   "outputs": [],
   "source": []
  },
  {
   "cell_type": "code",
   "execution_count": null,
   "metadata": {},
   "outputs": [],
   "source": []
  }
 ],
 "metadata": {
  "kernelspec": {
   "display_name": "Python 3",
   "language": "python",
   "name": "python3"
  },
  "language_info": {
   "codemirror_mode": {
    "name": "ipython",
    "version": 3
   },
   "file_extension": ".py",
   "mimetype": "text/x-python",
   "name": "python",
   "nbconvert_exporter": "python",
   "pygments_lexer": "ipython3",
   "version": "3.6.8"
  }
 },
 "nbformat": 4,
 "nbformat_minor": 2
}
